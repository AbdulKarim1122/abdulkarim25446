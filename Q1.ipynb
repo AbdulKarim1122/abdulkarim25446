{
 "cells": [
  {
   "cell_type": "code",
   "execution_count": 42,
   "id": "0250d7aa",
   "metadata": {},
   "outputs": [
    {
     "data": {
      "text/plain": [
       "93326215443944152681699238856266700490715968264381621468592963895217599993229915608941463976156518286253697920827223758251185210916864000000000000000000000000"
      ]
     },
     "execution_count": 42,
     "metadata": {},
     "output_type": "execute_result"
    }
   ],
   "source": [
    "n = 100\n",
    "f = 1\n",
    "for i in range(1, n+1):\n",
    "    f = f* i\n",
    "f"
   ]
  },
  {
   "cell_type": "code",
   "execution_count": 43,
   "id": "e97245ca",
   "metadata": {},
   "outputs": [],
   "source": [
    "lst = []\n",
    "for i in str(f):\n",
    "    lst.append(int(i))"
   ]
  },
  {
   "cell_type": "code",
   "execution_count": 44,
   "id": "aaaf02d1",
   "metadata": {},
   "outputs": [
    {
     "data": {
      "text/plain": [
       "[9,\n",
       " 3,\n",
       " 3,\n",
       " 2,\n",
       " 6,\n",
       " 2,\n",
       " 1,\n",
       " 5,\n",
       " 4,\n",
       " 4,\n",
       " 3,\n",
       " 9,\n",
       " 4,\n",
       " 4,\n",
       " 1,\n",
       " 5,\n",
       " 2,\n",
       " 6,\n",
       " 8,\n",
       " 1,\n",
       " 6,\n",
       " 9,\n",
       " 9,\n",
       " 2,\n",
       " 3,\n",
       " 8,\n",
       " 8,\n",
       " 5,\n",
       " 6,\n",
       " 2,\n",
       " 6,\n",
       " 6,\n",
       " 7,\n",
       " 0,\n",
       " 0,\n",
       " 4,\n",
       " 9,\n",
       " 0,\n",
       " 7,\n",
       " 1,\n",
       " 5,\n",
       " 9,\n",
       " 6,\n",
       " 8,\n",
       " 2,\n",
       " 6,\n",
       " 4,\n",
       " 3,\n",
       " 8,\n",
       " 1,\n",
       " 6,\n",
       " 2,\n",
       " 1,\n",
       " 4,\n",
       " 6,\n",
       " 8,\n",
       " 5,\n",
       " 9,\n",
       " 2,\n",
       " 9,\n",
       " 6,\n",
       " 3,\n",
       " 8,\n",
       " 9,\n",
       " 5,\n",
       " 2,\n",
       " 1,\n",
       " 7,\n",
       " 5,\n",
       " 9,\n",
       " 9,\n",
       " 9,\n",
       " 9,\n",
       " 3,\n",
       " 2,\n",
       " 2,\n",
       " 9,\n",
       " 9,\n",
       " 1,\n",
       " 5,\n",
       " 6,\n",
       " 0,\n",
       " 8,\n",
       " 9,\n",
       " 4,\n",
       " 1,\n",
       " 4,\n",
       " 6,\n",
       " 3,\n",
       " 9,\n",
       " 7,\n",
       " 6,\n",
       " 1,\n",
       " 5,\n",
       " 6,\n",
       " 5,\n",
       " 1,\n",
       " 8,\n",
       " 2,\n",
       " 8,\n",
       " 6,\n",
       " 2,\n",
       " 5,\n",
       " 3,\n",
       " 6,\n",
       " 9,\n",
       " 7,\n",
       " 9,\n",
       " 2,\n",
       " 0,\n",
       " 8,\n",
       " 2,\n",
       " 7,\n",
       " 2,\n",
       " 2,\n",
       " 3,\n",
       " 7,\n",
       " 5,\n",
       " 8,\n",
       " 2,\n",
       " 5,\n",
       " 1,\n",
       " 1,\n",
       " 8,\n",
       " 5,\n",
       " 2,\n",
       " 1,\n",
       " 0,\n",
       " 9,\n",
       " 1,\n",
       " 6,\n",
       " 8,\n",
       " 6,\n",
       " 4,\n",
       " 0,\n",
       " 0,\n",
       " 0,\n",
       " 0,\n",
       " 0,\n",
       " 0,\n",
       " 0,\n",
       " 0,\n",
       " 0,\n",
       " 0,\n",
       " 0,\n",
       " 0,\n",
       " 0,\n",
       " 0,\n",
       " 0,\n",
       " 0,\n",
       " 0,\n",
       " 0,\n",
       " 0,\n",
       " 0,\n",
       " 0,\n",
       " 0,\n",
       " 0,\n",
       " 0]"
      ]
     },
     "execution_count": 44,
     "metadata": {},
     "output_type": "execute_result"
    }
   ],
   "source": [
    "lst"
   ]
  },
  {
   "cell_type": "code",
   "execution_count": 45,
   "id": "d76796c8",
   "metadata": {},
   "outputs": [
    {
     "data": {
      "text/plain": [
       "648"
      ]
     },
     "execution_count": 45,
     "metadata": {},
     "output_type": "execute_result"
    }
   ],
   "source": [
    "sum(lst)"
   ]
  },
  {
   "cell_type": "code",
   "execution_count": null,
   "id": "6822f978",
   "metadata": {},
   "outputs": [],
   "source": []
  }
 ],
 "metadata": {
  "kernelspec": {
   "display_name": "Python 3 (ipykernel)",
   "language": "python",
   "name": "python3"
  },
  "language_info": {
   "codemirror_mode": {
    "name": "ipython",
    "version": 3
   },
   "file_extension": ".py",
   "mimetype": "text/x-python",
   "name": "python",
   "nbconvert_exporter": "python",
   "pygments_lexer": "ipython3",
   "version": "3.9.12"
  }
 },
 "nbformat": 4,
 "nbformat_minor": 5
}
