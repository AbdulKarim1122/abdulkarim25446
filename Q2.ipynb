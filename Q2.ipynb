{
 "cells": [
  {
   "cell_type": "code",
   "execution_count": 1,
   "id": "adbfb748",
   "metadata": {},
   "outputs": [],
   "source": [
    "class ListNode:\n",
    "    def __init__(self, val=0, next=None):\n",
    "        self.val = val\n",
    "        self.next = next\n",
    "class Solution:\n",
    "    def removeNthFromEnd(self, head: ListNode, n: int) -> ListNode:\n",
    "        a=head[len(head)-n]\n",
    "        head.remove(a)\n",
    "        return head"
   ]
  },
  {
   "cell_type": "code",
   "execution_count": 2,
   "id": "d644ac1c",
   "metadata": {},
   "outputs": [],
   "source": [
    "h=[1,2,3,4,5]\n",
    "n=2"
   ]
  },
  {
   "cell_type": "code",
   "execution_count": 3,
   "id": "a855cb09",
   "metadata": {},
   "outputs": [
    {
     "data": {
      "text/plain": [
       "[1, 2, 3, 5]"
      ]
     },
     "execution_count": 3,
     "metadata": {},
     "output_type": "execute_result"
    }
   ],
   "source": [
    "linkedlist = Solution()\n",
    "linkedlist.removeNthFromEnd(h,n)"
   ]
  },
  {
   "cell_type": "code",
   "execution_count": 4,
   "id": "16ea2201",
   "metadata": {},
   "outputs": [
    {
     "data": {
      "text/plain": [
       "[1]"
      ]
     },
     "execution_count": 4,
     "metadata": {},
     "output_type": "execute_result"
    }
   ],
   "source": [
    "h=[1,2]\n",
    "n=1\n",
    "linkedlist.removeNthFromEnd(h,n)"
   ]
  },
  {
   "cell_type": "code",
   "execution_count": 5,
   "id": "5ab85eef",
   "metadata": {},
   "outputs": [
    {
     "data": {
      "text/plain": [
       "[]"
      ]
     },
     "execution_count": 5,
     "metadata": {},
     "output_type": "execute_result"
    }
   ],
   "source": [
    "h=[1]\n",
    "n=1\n",
    "linkedlist.removeNthFromEnd(h,n)"
   ]
  },
  {
   "cell_type": "code",
   "execution_count": null,
   "id": "2c9a993a",
   "metadata": {},
   "outputs": [],
   "source": []
  }
 ],
 "metadata": {
  "kernelspec": {
   "display_name": "Python 3 (ipykernel)",
   "language": "python",
   "name": "python3"
  },
  "language_info": {
   "codemirror_mode": {
    "name": "ipython",
    "version": 3
   },
   "file_extension": ".py",
   "mimetype": "text/x-python",
   "name": "python",
   "nbconvert_exporter": "python",
   "pygments_lexer": "ipython3",
   "version": "3.9.12"
  }
 },
 "nbformat": 4,
 "nbformat_minor": 5
}
