{
 "cells": [
  {
   "cell_type": "code",
   "execution_count": 1,
   "id": "7bcdc195",
   "metadata": {},
   "outputs": [],
   "source": [
    "def median(num1,num2):\n",
    "    list1 = num1 + num2\n",
    "    list1=sorted(list1)\n",
    "\n",
    "    a=(len(list1)-1)/2\n",
    "\n",
    "    if a%1 != 0:\n",
    "        b1=list1[int(a)]\n",
    "        b2=list1[int(a)]+1\n",
    "        print('Median: ',float((b1+b2)/2))\n",
    "    else:\n",
    "        print('Median: ',float(list1[int(a)]))"
   ]
  },
  {
   "cell_type": "code",
   "execution_count": 2,
   "id": "5f569329",
   "metadata": {},
   "outputs": [
    {
     "name": "stdout",
     "output_type": "stream",
     "text": [
      "Median:  2.0\n"
     ]
    }
   ],
   "source": [
    "num1=[1,3]\n",
    "num2=[2]\n",
    "median(num1,num2)"
   ]
  },
  {
   "cell_type": "code",
   "execution_count": 3,
   "id": "bc5e14b2",
   "metadata": {},
   "outputs": [
    {
     "name": "stdout",
     "output_type": "stream",
     "text": [
      "Median:  2.5\n"
     ]
    }
   ],
   "source": [
    "num1=[1,2]\n",
    "num2=[3,4]\n",
    "median(num1,num2)"
   ]
  },
  {
   "cell_type": "code",
   "execution_count": null,
   "id": "e4edd2ee",
   "metadata": {},
   "outputs": [],
   "source": []
  }
 ],
 "metadata": {
  "kernelspec": {
   "display_name": "Python 3 (ipykernel)",
   "language": "python",
   "name": "python3"
  },
  "language_info": {
   "codemirror_mode": {
    "name": "ipython",
    "version": 3
   },
   "file_extension": ".py",
   "mimetype": "text/x-python",
   "name": "python",
   "nbconvert_exporter": "python",
   "pygments_lexer": "ipython3",
   "version": "3.9.12"
  }
 },
 "nbformat": 4,
 "nbformat_minor": 5
}
